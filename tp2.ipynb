{
 "cells": [
  {
   "cell_type": "code",
   "execution_count": 85,
   "metadata": {},
   "outputs": [
    {
     "data": {
      "text/plain": [
       "'\\nNom Prenom :  CHATRA ISMAEL\\nSpecialisation :  SIEC - 5A\\nFichier : tp2.ipynb\\nBut :  Apprentissage parperceptron multi-couche sous sklearn\\n'"
      ]
     },
     "execution_count": 85,
     "metadata": {},
     "output_type": "execute_result"
    }
   ],
   "source": [
    "\"\"\"\n",
    "Nom Prenom :  CHATRA ISMAEL\n",
    "Specialisation :  SIEC - 5A\n",
    "Fichier : tp2.ipynb\n",
    "But :  Apprentissage parperceptron multi-couche sous sklearn\n",
    "\"\"\""
   ]
  },
  {
   "cell_type": "code",
   "execution_count": 86,
   "metadata": {},
   "outputs": [],
   "source": [
    "\"\"\"\"\n",
    " CHARGEMENT DU JEU  de données MNIST\n",
    "\"\"\"\n",
    "import time \n",
    "from sklearn.datasets import fetch_openml\n",
    "mnist = fetch_openml('mnist_784')\n",
    "from sklearn.metrics import zero_one_loss"
   ]
  },
  {
   "cell_type": "code",
   "execution_count": 3,
   "metadata": {},
   "outputs": [],
   "source": [
    "\"\"\"\n",
    "DIVISION de la base de donnees en 49 000 lignes pour l’apprentissage (training) et le reste pour les tests.\n",
    "\"\"\"\n",
    "\n",
    "import numpy as np \n",
    "from sklearn.model_selection import train_test_split\n",
    "data = mnist.data\n",
    "target = mnist.target\n",
    "xtrain, xtest, ytrain, ytest = train_test_split(data, target,train_size=0.7) ## 70 000 *0.7= 49 000"
   ]
  },
  {
   "cell_type": "code",
   "execution_count": 14,
   "metadata": {},
   "outputs": [
    {
     "name": "stdout",
     "output_type": "stream",
     "text": [
      "Precision pour  une couche de 50 neurones 0.9500952380952381\n",
      "Precision pour  une couche de 50 neurones 0.9500952380952381\n"
     ]
    }
   ],
   "source": [
    "\"\"\"\n",
    "Construire d'un modele de classification ayant comme paramètre:\n",
    "- Couche de 50 neurones\n",
    "- Affichage de la precision pour le modele\n",
    "\"\"\"\n",
    "\n",
    "from sklearn.neural_network import MLPClassifier\n",
    "from  sklearn.neighbors import KNeighborsClassifier\n",
    "\n",
    "mpl=MLPClassifier(hidden_layer_sizes=(50)) # couche de 50 neurones\n",
    "mpl.fit(xtrain, ytrain)\n",
    "mpl.predict(xtest)\n",
    "mpl.predict_proba(xtest)\n",
    "print(\"Precision pour  une couche de 50 neurones\", mpl.score(xtest, ytest))"
   ]
  },
  {
   "cell_type": "code",
   "execution_count": 12,
   "metadata": {},
   "outputs": [
    {
     "name": "stdout",
     "output_type": "stream",
     "text": [
      "5\n",
      "5\n"
     ]
    }
   ],
   "source": [
    "\"\"\"\"\n",
    "Affichage de la classe de l’image 4 et sa classe predite\n",
    "\"\"\" \n",
    "print(ytest[3])\n",
    "print(mpl.predict(xtest)[3]) "
   ]
  },
  {
   "cell_type": "code",
   "execution_count": 13,
   "metadata": {},
   "outputs": [
    {
     "name": "stdout",
     "output_type": "stream",
     "text": [
      "Precision pour  une couche de 50 neurones 0.9419047619047619\n"
     ]
    }
   ],
   "source": [
    "\"\"\"\n",
    "- Affichage de la precision pour le modele avec package precison_score\n",
    "\"\"\"\n",
    "from sklearn.metrics import precision_score\n",
    "print(\"Precision pour  une couche de 50 neurones\", precision_score(ytest,mpl.predict(xtest),average='micro'))"
   ]
  },
  {
   "cell_type": "code",
   "execution_count": 15,
   "metadata": {},
   "outputs": [
    {
     "data": {
      "text/plain": [
       "\"\\nVariation du  nombre de couches de neurones avec l'algorithme 'adam':\\n\\n- 1 x 50\\n- 2 x 50\\n- 3 x 50\\n- 5 x couche degressif (50,48,35,25,10))\\n- 5 x 10\\n- 5 x 20\\n- 5 x 40\\n\\nBut :  Comparer les precisions et le temps d’apprentissage d’un modele. \\n\""
      ]
     },
     "execution_count": 15,
     "metadata": {},
     "output_type": "execute_result"
    }
   ],
   "source": [
    "\"\"\"\n",
    "Variation du  nombre de couches de neurones avec l'algorithme 'adam':\n",
    "\n",
    "- 1 x 50\n",
    "- 2 x 50\n",
    "- 3 x 50\n",
    "- 5 x couche degressif (50,48,35,25,10))\n",
    "- 5 x 10\n",
    "- 5 x 20\n",
    "- 5 x 40\n",
    "\n",
    "But :  Comparer les precisions et le temps d’apprentissage d’un modele. \n",
    "\"\"\""
   ]
  },
  {
   "cell_type": "code",
   "execution_count": 23,
   "metadata": {},
   "outputs": [
    {
     "name": "stdout",
     "output_type": "stream",
     "text": [
      "0.9501904761904761\n",
      " Temps d'apprentissage (s) = 45.35154128074646\n",
      "Erreur pour le modele :  0.04980952380952386\n"
     ]
    }
   ],
   "source": [
    "\n",
    "seconds = time.time()\n",
    "mpl=MLPClassifier(hidden_layer_sizes=(50))\n",
    "mpl.fit(xtrain, ytrain)\n",
    "mpl.predict(xtest)\n",
    "mpl.predict_proba(xtest)\n",
    "print(mpl.score(xtest, ytest))\n",
    "print(\" Temps d'apprentissage (s) =\", time.time()-seconds)\n",
    "print(\"Erreur pour le modele : \" ,zero_one_loss(ytest,mpl.predict(xtest)))"
   ]
  },
  {
   "cell_type": "code",
   "execution_count": 26,
   "metadata": {},
   "outputs": [
    {
     "name": "stdout",
     "output_type": "stream",
     "text": [
      "0.9517142857142857\n",
      " Temps d'apprentissage (s) = 27.0565083026886\n",
      "Erreur pour le modele :  0.048285714285714265\n"
     ]
    }
   ],
   "source": [
    "seconds = time.time()\n",
    "mpl=MLPClassifier(hidden_layer_sizes=(50,50))\n",
    "mpl.fit(xtrain, ytrain)\n",
    "mpl.predict(xtest)\n",
    "mpl.predict_proba(xtest)\n",
    "print( mpl.score(xtest, ytest))\n",
    "print(\" Temps d'apprentissage (s) =\", time.time()-seconds)\n",
    "print(\"Erreur pour le modele : \" ,zero_one_loss(ytest,mpl.predict(xtest)))"
   ]
  },
  {
   "cell_type": "code",
   "execution_count": 24,
   "metadata": {},
   "outputs": [
    {
     "name": "stdout",
     "output_type": "stream",
     "text": [
      "0.963047619047619\n",
      " Temps d'apprentissage (s) = 41.91608381271362\n",
      "Erreur pour le modele :  0.03695238095238096\n"
     ]
    }
   ],
   "source": [
    "seconds = time.time() \n",
    "mpl=MLPClassifier(hidden_layer_sizes=(50,50,50))\n",
    "mpl.fit(xtrain, ytrain)\n",
    "mpl.predict(xtest)\n",
    "mpl.predict_proba(xtest)\n",
    "print(mpl.score(xtest, ytest))\n",
    "print(\" Temps d'apprentissage (s) =\", time.time()-seconds)\n",
    "print(\"Erreur pour le modele : \" ,zero_one_loss(ytest,mpl.predict(xtest)))"
   ]
  },
  {
   "cell_type": "code",
   "execution_count": 61,
   "metadata": {},
   "outputs": [
    {
     "name": "stdout",
     "output_type": "stream",
     "text": [
      "0.9623809523809523\n",
      " Temps d'apprentissage (s) = 42.45693755149841\n",
      "Erreur pour le modele :  0.03761904761904766\n"
     ]
    }
   ],
   "source": [
    "\n",
    "seconds = time.time()\n",
    "mpl=MLPClassifier(hidden_layer_sizes=(50,48,35,25,10))\n",
    "mpl.fit(xtrain, ytrain)\n",
    "mpl.predict(xtest)\n",
    "mpl.predict_proba(xtest)\n",
    "print( mpl.score(xtest, ytest))\n",
    "print(\" Temps d'apprentissage (s) =\", time.time()-seconds)\n",
    "print(\"Erreur pour le modele : \" ,zero_one_loss(ytest,mpl.predict(xtest)))"
   ]
  },
  {
   "cell_type": "code",
   "execution_count": 62,
   "metadata": {},
   "outputs": [
    {
     "name": "stdout",
     "output_type": "stream",
     "text": [
      "0.9663809523809523\n",
      " Temps d'apprentissage (s) = 45.814404249191284\n",
      "Erreur pour le modele :  0.03361904761904766\n"
     ]
    }
   ],
   "source": [
    "seconds = time.time()   \n",
    "mpl=MLPClassifier(hidden_layer_sizes=(50,50,50,50,50,50,50,50,50,50))\n",
    "mpl.fit(xtrain, ytrain)\n",
    "print(mpl.score(xtest, ytest))\n",
    "print(\" Temps d'apprentissage (s) =\", time.time()-seconds)\n",
    "print(\"Erreur pour le modele : \" ,zero_one_loss(ytest,mpl.predict(xtest)))"
   ]
  },
  {
   "cell_type": "code",
   "execution_count": 63,
   "metadata": {},
   "outputs": [
    {
     "name": "stdout",
     "output_type": "stream",
     "text": [
      "0.6551428571428571\n",
      " Temps d'apprentissage (s) = 41.09760499000549\n",
      "Erreur pour le modele :  0.34485714285714286\n"
     ]
    }
   ],
   "source": [
    "seconds = time.time()\n",
    "mpl=MLPClassifier(hidden_layer_sizes=(50,50,50,50,50,50,50,50,50,50,50,50,50,50,50,50,50,50,50,50,50,50,50,50,50,50,50,50,50,50,50,50,50,50,50,50,50,50,50,50))\n",
    "mpl.fit(xtrain, ytrain)\n",
    "print(mpl.score(xtest, ytest))\n",
    "print(\" Temps d'apprentissage (s) =\", time.time()-seconds)\n",
    "print(\"Erreur pour le modele : \" ,zero_one_loss(ytest,mpl.predict(xtest)))"
   ]
  },
  {
   "cell_type": "code",
   "execution_count": 59,
   "metadata": {},
   "outputs": [
    {
     "name": "stdout",
     "output_type": "stream",
     "text": [
      "0.11314285714285714\n",
      " Temps d'apprentissage (s) = 46.578009843826294\n",
      "Erreur pour le modele :  0.8868571428571429\n"
     ]
    }
   ],
   "source": [
    "seconds = time.time()\n",
    "mpl=MLPClassifier(hidden_layer_sizes=(50,50,50,50,50,50,50,50,50,50,50,50,50,50,50,50,50,50,50,50,50,50,50,50,50,50,50,50,50,50,50,50,50,50,50,50,50,50,50,50,50,50,50,50,50,50,50,50,50,50))\n",
    "mpl.fit(xtrain, ytrain)\n",
    "print(mpl.score(xtest, ytest))\n",
    "print(\" Temps d'apprentissage (s) =\", time.time()-seconds)\n",
    "print(\"Erreur pour le modele : \" ,zero_one_loss(ytest,mpl.predict(xtest)))"
   ]
  },
  {
   "cell_type": "code",
   "execution_count": 30,
   "metadata": {},
   "outputs": [
    {
     "data": {
      "text/plain": [
       "'\\n-Test avec une couche de 50 puis identification des 2 meilleurs algorithmes :  \\n\\n'"
      ]
     },
     "execution_count": 30,
     "metadata": {},
     "output_type": "execute_result"
    }
   ],
   "source": [
    "\"\"\"\n",
    "-Test avec une couche de 50 puis identification des 2 meilleurs algorithmes \n",
    "\n",
    "\"\"\"\n"
   ]
  },
  {
   "cell_type": "code",
   "execution_count": 35,
   "metadata": {},
   "outputs": [
    {
     "name": "stdout",
     "output_type": "stream",
     "text": [
      "0.11261904761904762\n",
      " Temps d'apprentissage (s) = 0.446852445602417\n",
      "Erreur pour le modele :  0.8873809523809524\n"
     ]
    }
   ],
   "source": [
    "\"\"\"\"\n",
    " Test avec l'algorithme de lbfgs\n",
    "\"\"\" \n",
    "seconds = time.time()\n",
    "mpl=MLPClassifier(hidden_layer_sizes=(50),solver='lbfgs' )\n",
    "mpl.fit(xtrain, ytrain)\n",
    "print(mpl.score(xtest, ytest))\n",
    "print(\" Temps d'apprentissage (s) =\", time.time()-seconds)\n",
    "print(\"Erreur pour le modele : \" ,zero_one_loss(ytest,mpl.predict(xtest)))"
   ]
  },
  {
   "cell_type": "code",
   "execution_count": 36,
   "metadata": {},
   "outputs": [
    {
     "name": "stdout",
     "output_type": "stream",
     "text": [
      "0.9519047619047619\n",
      " Temps d'apprentissage (s) = 48.23472285270691\n",
      "Erreur pour le modele :  0.04809523809523808\n"
     ]
    }
   ],
   "source": [
    "\"\"\"\"\n",
    " Test avec l'algorithme d'adam\n",
    "\"\"\" \n",
    "seconds = time.time()\n",
    "mpl=MLPClassifier(hidden_layer_sizes=(50),solver='adam' )\n",
    "mpl.fit(xtrain, ytrain)\n",
    "print(mpl.score(xtest, ytest))\n",
    "print(\" Temps d'apprentissage (s) =\", time.time()-seconds)\n",
    "print(\"Erreur pour le modele : \" ,zero_one_loss(ytest,mpl.predict(xtest)))"
   ]
  },
  {
   "cell_type": "code",
   "execution_count": 37,
   "metadata": {},
   "outputs": [
    {
     "name": "stdout",
     "output_type": "stream",
     "text": [
      "0.8973809523809524\n",
      " Temps d'apprentissage (s) = 50.16873908042908\n",
      "Erreur pour le modele :  0.10261904761904761\n"
     ]
    }
   ],
   "source": [
    "\"\"\"\"\n",
    " Test avec l'algorithme de SGD\n",
    "\"\"\" \n",
    "seconds = time.time()\n",
    "mpl=MLPClassifier(hidden_layer_sizes=(50),solver= 'sgd')\n",
    "mpl.fit(xtrain, ytrain)\n",
    "print(mpl.score(xtest, ytest))\n",
    "print(\" Temps d'apprentissage (s) =\", time.time()-seconds)\n",
    "print(\"Erreur pour le modele : \" ,zero_one_loss(ytest,mpl.predict(xtest)))"
   ]
  },
  {
   "cell_type": "code",
   "execution_count": 34,
   "metadata": {},
   "outputs": [
    {
     "data": {
      "text/plain": [
       "'\\n-Test avec variation de couche pour les deux meilleurs algorithmes \\n 1. SGD\\n 2.ADAM\\n\\n'"
      ]
     },
     "execution_count": 34,
     "metadata": {},
     "output_type": "execute_result"
    }
   ],
   "source": [
    "\"\"\"\n",
    "-Test avec variation de couche(s) de neurone(s) pour les deux meilleurs algorithmes \n",
    " 1. SGD\n",
    " 2.ADAM\n",
    "\n",
    "\"\"\"\n"
   ]
  },
  {
   "cell_type": "code",
   "execution_count": 44,
   "metadata": {},
   "outputs": [
    {
     "name": "stdout",
     "output_type": "stream",
     "text": [
      "0.9349047619047619\n",
      " Temps d'apprentissage (s) = 66.47629928588867\n",
      "Erreur pour le modele :  0.0650952380952381\n"
     ]
    },
    {
     "name": "stderr",
     "output_type": "stream",
     "text": [
      "/usr/local/insa/anaconda/lib/python3.7/site-packages/sklearn/neural_network/multilayer_perceptron.py:566: ConvergenceWarning: Stochastic Optimizer: Maximum iterations (200) reached and the optimization hasn't converged yet.\n",
      "  % self.max_iter, ConvergenceWarning)\n"
     ]
    }
   ],
   "source": [
    "seconds = time.time()\n",
    "mpl=MLPClassifier(hidden_layer_sizes=(50,50,50),solver= 'sgd')\n",
    "mpl.fit(xtrain, ytrain)\n",
    "print(mpl.score(xtest, ytest))\n",
    "print(\" Temps d'apprentissage (s) =\", time.time()-seconds)\n",
    "print(\"Erreur pour le modele : \" ,zero_one_loss(ytest,mpl.predict(xtest)))"
   ]
  },
  {
   "cell_type": "code",
   "execution_count": 40,
   "metadata": {},
   "outputs": [
    {
     "name": "stdout",
     "output_type": "stream",
     "text": [
      "0.9547142857142857\n",
      " Temps d'apprentissage (s) = 60.04043984413147\n",
      "Erreur pour le modele :  0.04528571428571426\n"
     ]
    }
   ],
   "source": [
    "seconds = time.time()\n",
    "mpl=MLPClassifier(hidden_layer_sizes=(50,50,50,50,50,50,50,50,50,50),solver= 'sgd')\n",
    "mpl.fit(xtrain, ytrain)\n",
    "print(mpl.score(xtest, ytest))\n",
    "print(\" Temps d'apprentissage (s) =\", time.time()-seconds)\n",
    "print(\"Erreur pour le modele : \" ,zero_one_loss(ytest,mpl.predict(xtest)))"
   ]
  },
  {
   "cell_type": "code",
   "execution_count": 45,
   "metadata": {},
   "outputs": [
    {
     "name": "stdout",
     "output_type": "stream",
     "text": [
      "0.9585238095238096\n",
      " Temps d'apprentissage (s) = 109.19884514808655\n",
      "Erreur pour le modele :  0.041476190476190444\n"
     ]
    }
   ],
   "source": [
    "seconds = time.time()\n",
    "mpl=MLPClassifier(hidden_layer_sizes=(50,50,50,50,50,50,50,50,50,50,50,50,50,50,50,50,50,50,50,50),solver= 'sgd')\n",
    "mpl.fit(xtrain, ytrain)\n",
    "print(mpl.score(xtest, ytest))\n",
    "print(\" Temps d'apprentissage (s) =\", time.time()-seconds)\n",
    "print(\"Erreur pour le modele : \" ,zero_one_loss(ytest,mpl.predict(xtest)))"
   ]
  },
  {
   "cell_type": "code",
   "execution_count": 46,
   "metadata": {},
   "outputs": [
    {
     "name": "stdout",
     "output_type": "stream",
     "text": [
      "0.11314285714285714\n",
      " Temps d'apprentissage (s) = 26.036004543304443\n",
      "Erreur pour le modele :  0.8868571428571429\n"
     ]
    }
   ],
   "source": [
    "seconds = time.time()\n",
    "mpl=MLPClassifier(hidden_layer_sizes=(50,50,50,50,50,50,50,50,50,50,50,50,50,50,50,50,50,50,50,50,50,50,50,50,50,50,50,50,50,50,50,50,50,50,50,50,50,50,50,50),solver= 'sgd')\n",
    "mpl.fit(xtrain, ytrain)\n",
    "print(mpl.score(xtest, ytest))\n",
    "print(\" Temps d'apprentissage (s) =\", time.time()-seconds)\n",
    "print(\"Erreur pour le modele : \" ,zero_one_loss(ytest,mpl.predict(xtest)))"
   ]
  },
  {
   "cell_type": "code",
   "execution_count": 47,
   "metadata": {},
   "outputs": [
    {
     "name": "stdout",
     "output_type": "stream",
     "text": [
      "0.9445714285714286\n",
      " Temps d'apprentissage (s) = 54.46623253822327\n",
      "Erreur pour le modele :  0.05542857142857138\n"
     ]
    },
    {
     "name": "stderr",
     "output_type": "stream",
     "text": [
      "/usr/local/insa/anaconda/lib/python3.7/site-packages/sklearn/neural_network/multilayer_perceptron.py:566: ConvergenceWarning: Stochastic Optimizer: Maximum iterations (200) reached and the optimization hasn't converged yet.\n",
      "  % self.max_iter, ConvergenceWarning)\n"
     ]
    }
   ],
   "source": [
    "\n",
    "seconds = time.time()\n",
    "mpl=MLPClassifier(hidden_layer_sizes=(50),solver= 'sgd',activation='logistic')\n",
    "mpl.fit(xtrain, ytrain)\n",
    "print(mpl.score(xtest, ytest))\n",
    "print(\" Temps d'apprentissage (s) =\", time.time()-seconds)\n",
    "print(\"Erreur pour le modele : \" ,zero_one_loss(ytest,mpl.predict(xtest)))"
   ]
  },
  {
   "cell_type": "code",
   "execution_count": null,
   "metadata": {},
   "outputs": [],
   "source": [
    "\"\"\" \n",
    "Prendre le meilleurs scores de chaque algorithme puis faire varier le solver\n",
    "\n",
    "\"\"\""
   ]
  },
  {
   "cell_type": "code",
   "execution_count": 48,
   "metadata": {},
   "outputs": [
    {
     "name": "stdout",
     "output_type": "stream",
     "text": [
      "0.11314285714285714\n",
      " Temps d'apprentissage (s) = 35.60579323768616\n",
      "Error :  0.8868571428571429\n"
     ]
    }
   ],
   "source": [
    "### Meilleur pour adam\n",
    "seconds = time.time()\n",
    "mpl=MLPClassifier(hidden_layer_sizes=(50,50,50,50,50,50,50,50,50,50),activation='logistic')\n",
    "mpl.fit(xtrain, ytrain)\n",
    "print(mpl.score(xtest, ytest))\n",
    "print(\" Temps d'apprentissage (s) =\", time.time()-seconds)\n",
    "print(\"Error : \" ,zero_one_loss(ytest,mpl.predict(xtest)))"
   ]
  },
  {
   "cell_type": "code",
   "execution_count": 49,
   "metadata": {},
   "outputs": [
    {
     "name": "stdout",
     "output_type": "stream",
     "text": [
      "0.929047619047619\n",
      " Temps d'apprentissage (s) = 52.85489845275879\n",
      "Erreur pour le modele :  0.07095238095238099\n"
     ]
    }
   ],
   "source": [
    "\n",
    "seconds = time.time()\n",
    "mpl=MLPClassifier(hidden_layer_sizes=(50,50,50,50,50,50,50,50,50,50),activation='tanh')\n",
    "mpl.fit(xtrain, ytrain)\n",
    "print(mpl.score(xtest, ytest))\n",
    "print(\" Temps d'apprentissage (s) =\", time.time()-seconds)\n",
    "print(\"Erreur pour le modele : \" ,zero_one_loss(ytest,mpl.predict(xtest)))"
   ]
  },
  {
   "cell_type": "code",
   "execution_count": 50,
   "metadata": {},
   "outputs": [
    {
     "name": "stdout",
     "output_type": "stream",
     "text": [
      "0.9098571428571428\n",
      " Temps d'apprentissage (s) = 22.370139837265015\n",
      "Erreur pour le modele :  0.09014285714285719\n"
     ]
    }
   ],
   "source": [
    "seconds = time.time()\n",
    "mpl=MLPClassifier(hidden_layer_sizes=(50,50,50,50,50,50,50,50,50,50),activation='identity')\n",
    "mpl.fit(xtrain, ytrain)\n",
    "print(mpl.score(xtest, ytest))\n",
    "print(\" Temps d'apprentissage (s) =\", time.time()-seconds)\n",
    "print(\"Erreur pour le modele : \" ,zero_one_loss(ytest,mpl.predict(xtest)))\n"
   ]
  },
  {
   "cell_type": "code",
   "execution_count": 51,
   "metadata": {},
   "outputs": [
    {
     "name": "stdout",
     "output_type": "stream",
     "text": [
      "0.11314285714285714\n",
      " Temps d'apprentissage (s) = 11.689753532409668\n",
      "Erreur pour le modele :  0.8868571428571429\n"
     ]
    }
   ],
   "source": [
    "seconds = time.time()\n",
    "mpl=MLPClassifier(hidden_layer_sizes=(50,50,50,50,50,50,50,50,50,50),solver= 'sgd',activation='logistic')\n",
    "mpl.fit(xtrain, ytrain)\n",
    "print(mpl.score(xtest, ytest))\n",
    "print(\" Temps d'apprentissage (s) =\", time.time()-seconds)\n",
    "print(\"Erreur pour le modele : \" ,zero_one_loss(ytest,mpl.predict(xtest)))"
   ]
  },
  {
   "cell_type": "code",
   "execution_count": 52,
   "metadata": {},
   "outputs": [
    {
     "name": "stdout",
     "output_type": "stream",
     "text": [
      "0.9325238095238095\n",
      " Temps d'apprentissage (s) = 44.33291697502136\n",
      "Erreur pour le modele :  0.06747619047619047\n"
     ]
    }
   ],
   "source": [
    "seconds = time.time()\n",
    "mpl=MLPClassifier(hidden_layer_sizes=(50,50,50,50,50,50,50,50,50,50),solver= 'sgd',activation='tanh')\n",
    "mpl.fit(xtrain, ytrain)\n",
    "print(mpl.score(xtest, ytest))\n",
    "print(\" Temps d'apprentissage (s) =\", time.time()-seconds)\n",
    "print(\"Erreur pour le modele : \" ,zero_one_loss(ytest,mpl.predict(xtest)))"
   ]
  },
  {
   "cell_type": "code",
   "execution_count": 53,
   "metadata": {},
   "outputs": [
    {
     "name": "stdout",
     "output_type": "stream",
     "text": [
      "0.11314285714285714\n",
      " Temps d'apprentissage (s) = 11.421062707901001\n",
      "Erreur pour le modele :  0.8868571428571429\n"
     ]
    }
   ],
   "source": [
    "seconds = time.time()\n",
    "mpl=MLPClassifier(hidden_layer_sizes=(50,50,50,50,50,50,50,50,50,50),solver= 'sgd',activation='logistic')\n",
    "mpl.fit(xtrain, ytrain)\n",
    "print(mpl.score(xtest, ytest))\n",
    "print(\" Temps d'apprentissage (s) =\", time.time()-seconds)\n",
    "print(\"Erreur pour le modele : \" ,zero_one_loss(ytest,mpl.predict(xtest)))"
   ]
  },
  {
   "cell_type": "code",
   "execution_count": null,
   "metadata": {},
   "outputs": [],
   "source": [
    "\"\"\"\n",
    "\n",
    "Prendre le meilleur score et faire varier le alpha\n",
    "\n",
    "\"\"\""
   ]
  },
  {
   "cell_type": "code",
   "execution_count": 54,
   "metadata": {},
   "outputs": [
    {
     "name": "stdout",
     "output_type": "stream",
     "text": [
      "0.9698571428571429\n",
      " Temps d'apprentissage (s) = 78.57195806503296\n",
      "Erreur pour le modele :  0.030142857142857138\n"
     ]
    }
   ],
   "source": [
    "\n",
    "## Adam le meilleur en classification mais pas en regression\n",
    "seconds = time.time()\n",
    "mpl=MLPClassifier(hidden_layer_sizes=(50,50,50,50,50,50,50,50,50,50),alpha=0.0001)\n",
    "mpl.fit(xtrain, ytrain)\n",
    "print(mpl.score(xtest, ytest))\n",
    "print(\" Temps d'apprentissage (s) =\", time.time()-seconds)\n",
    "print(\"Erreur pour le modele : \" ,zero_one_loss(ytest,mpl.predict(xtest)))\n"
   ]
  },
  {
   "cell_type": "code",
   "execution_count": 55,
   "metadata": {},
   "outputs": [
    {
     "name": "stdout",
     "output_type": "stream",
     "text": [
      "0.9700952380952381\n",
      "0.9975918367346939\n",
      " Temps d'apprentissage (s) = 56.45355677604675\n",
      "Erreur pour le modele :  0.02990476190476188\n"
     ]
    }
   ],
   "source": [
    "seconds = time.time()\n",
    "mpl=MLPClassifier(hidden_layer_sizes=(50,50,50,50,50,50,50,50,50,50),alpha=0.0005)\n",
    "mpl.fit(xtrain, ytrain)\n",
    "print(mpl.score(xtest, ytest))\n",
    "print(mpl.score(xtrain,ytrain))\n",
    "print(\" Temps d'apprentissage (s) =\", time.time()-seconds)\n",
    "print(\"Erreur pour le modele : \" ,zero_one_loss(ytest,mpl.predict(xtest)))"
   ]
  },
  {
   "cell_type": "code",
   "execution_count": 56,
   "metadata": {},
   "outputs": [
    {
     "name": "stdout",
     "output_type": "stream",
     "text": [
      "0.9678095238095238\n",
      " Temps d'apprentissage (s) = 79.52199649810791\n",
      "Erreur pour le modele :  0.032190476190476214\n"
     ]
    }
   ],
   "source": [
    "seconds = time.time()\n",
    "mpl=MLPClassifier(hidden_layer_sizes=(50,50,50,50,50,50,50,50,50,50),alpha=0.001)\n",
    "mpl.fit(xtrain, ytrain)\n",
    "print(mpl.score(xtest, ytest))\n",
    "print(\" Temps d'apprentissage (s) =\", time.time()-seconds)\n",
    "print(\"Erreur pour le modele : \" ,zero_one_loss(ytest,mpl.predict(xtest)))"
   ]
  },
  {
   "cell_type": "code",
   "execution_count": 57,
   "metadata": {},
   "outputs": [
    {
     "name": "stdout",
     "output_type": "stream",
     "text": [
      "0.9713809523809523\n",
      " Temps d'apprentissage (s) = 70.48288583755493\n",
      "Erreur pour le modele :  0.028619047619047655\n"
     ]
    }
   ],
   "source": [
    "seconds = time.time()\n",
    "mpl=MLPClassifier(hidden_layer_sizes=(50,50,50,50,50,50,50,50,50,50),alpha=0.01)\n",
    "mpl.fit(xtrain, ytrain)\n",
    "print(mpl.score(xtest, ytest))\n",
    "print(\" Temps d'apprentissage (s) =\", time.time()-seconds)\n",
    "print(\"Erreur pour le modele : \" ,zero_one_loss(ytest,mpl.predict(xtest)))"
   ]
  },
  {
   "cell_type": "code",
   "execution_count": 83,
   "metadata": {},
   "outputs": [
    {
     "data": {
      "text/plain": [
       "Text(0, 0.5, 'Precision du modele ')"
      ]
     },
     "execution_count": 83,
     "metadata": {},
     "output_type": "execute_result"
    },
    {
     "data": {
      "image/png": "[encoded data removed]",
      "text/plain": [
       "<Figure size 432x288 with 1 Axes>"
      ]
     },
     "metadata": {
      "needs_background": "light"
     },
     "output_type": "display_data"
    }
   ],
   "source": [
    "\n",
    "## Tracer pour le modele d'adam\n",
    "from pylab import *\n",
    "\n",
    "x_nbcouches = array([1, 2, 3, 10,20,40]) ## Nombre de couches\n",
    "y_precision= array([0.9501904761904761, 0.9517142857142857,0.963047619047619 ,0.9663809523809523,0.6551428571428571,0.11314285714285714 ])  ## Precision\n",
    "y_temps = array([45.35154128074646,  27.0565083026886, 41.91608381271362,45.814404249191284,41.09760499000549, 46.57800984382629])  ## Temps d'apprentissage\n",
    "y_error = array([0.04980952380952386,  0.04828571428571426, 0.03695238095238096 ,  0.03361904761904766, 0.3448571428571428,0.8868571428571429])  ## Erreur\n",
    "\n",
    "\n",
    "\n",
    "show() # affiche la figure a l'ecran\n",
    "\n",
    "title(\"Variation de la precision en fonction du nombre de couche de neurone -Modele Adam\")\n",
    "plot(x_nbcouches, y_precision)\n",
    "plt.xlabel('Nombre de couches')\n",
    "plt.ylabel('Precision du modele ')\n"
   ]
  },
  {
   "cell_type": "code",
   "execution_count": null,
   "metadata": {},
   "outputs": [],
   "source": [
    "\"\"\"\"\"\""
   ]
  },
  {
   "cell_type": "code",
   "execution_count": 81,
   "metadata": {},
   "outputs": [
    {
     "data": {
      "text/plain": [
       "Text(0, 0.5, 'Temps dapprentissage (s) ')"
      ]
     },
     "execution_count": 81,
     "metadata": {},
     "output_type": "execute_result"
    },
    {
     "data": {
      "image/png": "[encoded data removed]",
      "text/plain": [
       "<Figure size 432x288 with 1 Axes>"
      ]
     },
     "metadata": {
      "needs_background": "light"
     },
     "output_type": "display_data"
    }
   ],
   "source": [
    "\n",
    "title(\"Variation du temps d'apprentissage en fonction du nombre de couche de neurone -Modele Adam\")\n",
    "plot(x_nbcouches, y_temps)\n",
    "plt.xlabel('Nombre de couches')\n",
    "plt.ylabel('Temps dapprentissage (s) ')"
   ]
  },
  {
   "cell_type": "code",
   "execution_count": 82,
   "metadata": {},
   "outputs": [
    {
     "data": {
      "text/plain": [
       "Text(0, 0.5, 'Erreur ')"
      ]
     },
     "execution_count": 82,
     "metadata": {},
     "output_type": "execute_result"
    },
    {
     "data": {
      "image/png": "[encoded data removed]",
      "text/plain": [
       "<Figure size 432x288 with 1 Axes>"
      ]
     },
     "metadata": {
      "needs_background": "light"
     },
     "output_type": "display_data"
    }
   ],
   "source": [
    "\n",
    "\n",
    "y_error = array([0.04980952380952386,  0.04828571428571426, 0.03695238095238096 ,  0.03361904761904766, 0.3448571428571428,0.8868571428571429])  ## Erreur\n",
    "\n",
    "title(\"Variation de l'erreur en fonction du nombre de couche de neurone -Modele Adam\")\n",
    "plot(x_nbcouches, y_error)\n",
    "plt.xlabel('Nombre de couches')\n",
    "plt.ylabel('Erreur ')"
   ]
  },
  {
   "cell_type": "code",
   "execution_count": 84,
   "metadata": {},
   "outputs": [
    {
     "data": {
      "text/plain": [
       "'\\n'"
      ]
     },
     "execution_count": 84,
     "metadata": {},
     "output_type": "execute_result"
    }
   ],
   "source": [
    "\n",
    "\"\"\"\n",
    "\"\"\"\n"
   ]
  }
 ],
 "metadata": {
  "kernelspec": {
   "display_name": "Python 3",
   "language": "python",
   "name": "python3"
  },
  "language_info": {
   "codemirror_mode": {
    "name": "ipython",
    "version": 3
   },
   "file_extension": ".py",
   "mimetype": "text/x-python",
   "name": "python",
   "nbconvert_exporter": "python",
   "pygments_lexer": "ipython3",
   "version": "3.7.3"
  },
  "latex_envs": {
   "LaTeX_envs_menu_present": true,
   "autoclose": false,
   "autocomplete": true,
   "bibliofile": "biblio.bib",
   "cite_by": "apalike",
   "current_citInitial": 1,
   "eqLabelWithNumbers": true,
   "eqNumInitial": 1,
   "hotkeys": {
    "equation": "Ctrl-E",
    "itemize": "Ctrl-I"
   },
   "labels_anchors": false,
   "latex_user_defs": false,
   "report_style_numbering": false,
   "user_envs_cfg": false
  }
 },
 "nbformat": 4,
 "nbformat_minor": 2
}
