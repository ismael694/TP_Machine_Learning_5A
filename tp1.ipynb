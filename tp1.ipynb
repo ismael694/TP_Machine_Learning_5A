{
 "cells": [
  {
   "cell_type": "code",
   "execution_count": 1,
   "metadata": {},
   "outputs": [
    {
     "data": {
      "text/plain": [
       "'\\nNom Prenom :  CHATRA ISMAEL\\nSpecialisation :  SIEC - 5A\\nFichier : tp1.ipynb\\nBut :  Apprentissage supervise\\n'"
      ]
     },
     "execution_count": 1,
     "metadata": {},
     "output_type": "execute_result"
    }
   ],
   "source": [
    "\"\"\"\n",
    "Nom Prenom :  CHATRA ISMAEL\n",
    "Specialisation :  SIEC - 5A\n",
    "Fichier : tp1.ipynb\n",
    "But :  Apprentissage supervise\n",
    "\"\"\""
   ]
  },
  {
   "cell_type": "code",
   "execution_count": 3,
   "metadata": {},
   "outputs": [],
   "source": [
    "\"\"\"\n",
    "Manipulation de la base de donnees  MNIST\n",
    "\"\"\"\n",
    "from sklearn.datasets import fetch_openml\n",
    "mnist = fetch_openml('mnist_784')"
   ]
  },
  {
   "cell_type": "code",
   "execution_count": 4,
   "metadata": {},
   "outputs": [
    {
     "name": "stdout",
     "output_type": "stream",
     "text": [
      "{'data': array([[0., 0., 0., ..., 0., 0., 0.],\n",
      "       [0., 0., 0., ..., 0., 0., 0.],\n",
      "       [0., 0., 0., ..., 0., 0., 0.],\n",
      "       ...,\n",
      "       [0., 0., 0., ..., 0., 0., 0.],\n",
      "       [0., 0., 0., ..., 0., 0., 0.],\n",
      "       [0., 0., 0., ..., 0., 0., 0.]]), 'target': array(['5', '0', '4', ..., '4', '5', '6'], dtype=object), 'feature_names': ['pixel1', 'pixel2', 'pixel3', 'pixel4', 'pixel5', 'pixel6', 'pixel7', 'pixel8', 'pixel9', 'pixel10', 'pixel11', 'pixel12', 'pixel13', 'pixel14', 'pixel15', 'pixel16', 'pixel17', 'pixel18', 'pixel19', 'pixel20', 'pixel21', 'pixel22', 'pixel23', 'pixel24', 'pixel25', 'pixel26', 'pixel27', 'pixel28', 'pixel29', 'pixel30', 'pixel31', 'pixel32', 'pixel33', 'pixel34', 'pixel35', 'pixel36', 'pixel37', 'pixel38', 'pixel39', 'pixel40', 'pixel41', 'pixel42', 'pixel43', 'pixel44', 'pixel45', 'pixel46', 'pixel47', 'pixel48', 'pixel49', 'pixel50', 'pixel51', 'pixel52', 'pixel53', 'pixel54', 'pixel55', 'pixel56', 'pixel57', 'pixel58', 'pixel59', 'pixel60', 'pixel61', 'pixel62', 'pixel63', 'pixel64', 'pixel65', 'pixel66', 'pixel67', 'pixel68', 'pixel69', 'pixel70', 'pixel71', 'pixel72', 'pixel73', 'pixel74', 'pixel75', 'pixel76', 'pixel77', 'pixel78', 'pixel79', 'pixel80', 'pixel81', 'pixel82', 'pixel83', 'pixel84', 'pixel85', 'pixel86', 'pixel87', 'pixel88', 'pixel89', 'pixel90', 'pixel91', 'pixel92', 'pixel93', 'pixel94', 'pixel95', 'pixel96', 'pixel97', 'pixel98', 'pixel99', 'pixel100', 'pixel101', 'pixel102', 'pixel103', 'pixel104', 'pixel105', 'pixel106', 'pixel107', 'pixel108', 'pixel109', 'pixel110', 'pixel111', 'pixel112', 'pixel113', 'pixel114', 'pixel115', 'pixel116', 'pixel117', 'pixel118', 'pixel119', 'pixel120', 'pixel121', 'pixel122', 'pixel123', 'pixel124', 'pixel125', 'pixel126', 'pixel127', 'pixel128', 'pixel129', 'pixel130', 'pixel131', 'pixel132', 'pixel133', 'pixel134', 'pixel135', 'pixel136', 'pixel137', 'pixel138', 'pixel139', 'pixel140', 'pixel141', 'pixel142', 'pixel143', 'pixel144', 'pixel145', 'pixel146', 'pixel147', 'pixel148', 'pixel149', 'pixel150', 'pixel151', 'pixel152', 'pixel153', 'pixel154', 'pixel155', 'pixel156', 'pixel157', 'pixel158', 'pixel159', 'pixel160', 'pixel161', 'pixel162', 'pixel163', 'pixel164', 'pixel165', 'pixel166', 'pixel167', 'pixel168', 'pixel169', 'pixel170', 'pixel171', 'pixel172', 'pixel173', 'pixel174', 'pixel175', 'pixel176', 'pixel177', 'pixel178', 'pixel179', 'pixel180', 'pixel181', 'pixel182', 'pixel183', 'pixel184', 'pixel185', 'pixel186', 'pixel187', 'pixel188', 'pixel189', 'pixel190', 'pixel191', 'pixel192', 'pixel193', 'pixel194', 'pixel195', 'pixel196', 'pixel197', 'pixel198', 'pixel199', 'pixel200', 'pixel201', 'pixel202', 'pixel203', 'pixel204', 'pixel205', 'pixel206', 'pixel207', 'pixel208', 'pixel209', 'pixel210', 'pixel211', 'pixel212', 'pixel213', 'pixel214', 'pixel215', 'pixel216', 'pixel217', 'pixel218', 'pixel219', 'pixel220', 'pixel221', 'pixel222', 'pixel223', 'pixel224', 'pixel225', 'pixel226', 'pixel227', 'pixel228', 'pixel229', 'pixel230', 'pixel231', 'pixel232', 'pixel233', 'pixel234', 'pixel235', 'pixel236', 'pixel237', 'pixel238', 'pixel239', 'pixel240', 'pixel241', 'pixel242', 'pixel243', 'pixel244', 'pixel245', 'pixel246', 'pixel247', 'pixel248', 'pixel249', 'pixel250', 'pixel251', 'pixel252', 'pixel253', 'pixel254', 'pixel255', 'pixel256', 'pixel257', 'pixel258', 'pixel259', 'pixel260', 'pixel261', 'pixel262', 'pixel263', 'pixel264', 'pixel265', 'pixel266', 'pixel267', 'pixel268', 'pixel269', 'pixel270', 'pixel271', 'pixel272', 'pixel273', 'pixel274', 'pixel275', 'pixel276', 'pixel277', 'pixel278', 'pixel279', 'pixel280', 'pixel281', 'pixel282', 'pixel283', 'pixel284', 'pixel285', 'pixel286', 'pixel287', 'pixel288', 'pixel289', 'pixel290', 'pixel291', 'pixel292', 'pixel293', 'pixel294', 'pixel295', 'pixel296', 'pixel297', 'pixel298', 'pixel299', 'pixel300', 'pixel301', 'pixel302', 'pixel303', 'pixel304', 'pixel305', 'pixel306', 'pixel307', 'pixel308', 'pixel309', 'pixel310', 'pixel311', 'pixel312', 'pixel313', 'pixel314', 'pixel315', 'pixel316', 'pixel317', 'pixel318', 'pixel319', 'pixel320', 'pixel321', 'pixel322', 'pixel323', 'pixel324', 'pixel325', 'pixel326', 'pixel327', 'pixel328', 'pixel329', 'pixel330', 'pixel331', 'pixel332', 'pixel333', 'pixel334', 'pixel335', 'pixel336', 'pixel337', 'pixel338', 'pixel339', 'pixel340', 'pixel341', 'pixel342', 'pixel343', 'pixel344', 'pixel345', 'pixel346', 'pixel347', 'pixel348', 'pixel349', 'pixel350', 'pixel351', 'pixel352', 'pixel353', 'pixel354', 'pixel355', 'pixel356', 'pixel357', 'pixel358', 'pixel359', 'pixel360', 'pixel361', 'pixel362', 'pixel363', 'pixel364', 'pixel365', 'pixel366', 'pixel367', 'pixel368', 'pixel369', 'pixel370', 'pixel371', 'pixel372', 'pixel373', 'pixel374', 'pixel375', 'pixel376', 'pixel377', 'pixel378', 'pixel379', 'pixel380', 'pixel381', 'pixel382', 'pixel383', 'pixel384', 'pixel385', 'pixel386', 'pixel387', 'pixel388', 'pixel389', 'pixel390', 'pixel391', 'pixel392', 'pixel393', 'pixel394', 'pixel395', 'pixel396', 'pixel397', 'pixel398', 'pixel399', 'pixel400', 'pixel401', 'pixel402', 'pixel403', 'pixel404', 'pixel405', 'pixel406', 'pixel407', 'pixel408', 'pixel409', 'pixel410', 'pixel411', 'pixel412', 'pixel413', 'pixel414', 'pixel415', 'pixel416', 'pixel417', 'pixel418', 'pixel419', 'pixel420', 'pixel421', 'pixel422', 'pixel423', 'pixel424', 'pixel425', 'pixel426', 'pixel427', 'pixel428', 'pixel429', 'pixel430', 'pixel431', 'pixel432', 'pixel433', 'pixel434', 'pixel435', 'pixel436', 'pixel437', 'pixel438', 'pixel439', 'pixel440', 'pixel441', 'pixel442', 'pixel443', 'pixel444', 'pixel445', 'pixel446', 'pixel447', 'pixel448', 'pixel449', 'pixel450', 'pixel451', 'pixel452', 'pixel453', 'pixel454', 'pixel455', 'pixel456', 'pixel457', 'pixel458', 'pixel459', 'pixel460', 'pixel461', 'pixel462', 'pixel463', 'pixel464', 'pixel465', 'pixel466', 'pixel467', 'pixel468', 'pixel469', 'pixel470', 'pixel471', 'pixel472', 'pixel473', 'pixel474', 'pixel475', 'pixel476', 'pixel477', 'pixel478', 'pixel479', 'pixel480', 'pixel481', 'pixel482', 'pixel483', 'pixel484', 'pixel485', 'pixel486', 'pixel487', 'pixel488', 'pixel489', 'pixel490', 'pixel491', 'pixel492', 'pixel493', 'pixel494', 'pixel495', 'pixel496', 'pixel497', 'pixel498', 'pixel499', 'pixel500', 'pixel501', 'pixel502', 'pixel503', 'pixel504', 'pixel505', 'pixel506', 'pixel507', 'pixel508', 'pixel509', 'pixel510', 'pixel511', 'pixel512', 'pixel513', 'pixel514', 'pixel515', 'pixel516', 'pixel517', 'pixel518', 'pixel519', 'pixel520', 'pixel521', 'pixel522', 'pixel523', 'pixel524', 'pixel525', 'pixel526', 'pixel527', 'pixel528', 'pixel529', 'pixel530', 'pixel531', 'pixel532', 'pixel533', 'pixel534', 'pixel535', 'pixel536', 'pixel537', 'pixel538', 'pixel539', 'pixel540', 'pixel541', 'pixel542', 'pixel543', 'pixel544', 'pixel545', 'pixel546', 'pixel547', 'pixel548', 'pixel549', 'pixel550', 'pixel551', 'pixel552', 'pixel553', 'pixel554', 'pixel555', 'pixel556', 'pixel557', 'pixel558', 'pixel559', 'pixel560', 'pixel561', 'pixel562', 'pixel563', 'pixel564', 'pixel565', 'pixel566', 'pixel567', 'pixel568', 'pixel569', 'pixel570', 'pixel571', 'pixel572', 'pixel573', 'pixel574', 'pixel575', 'pixel576', 'pixel577', 'pixel578', 'pixel579', 'pixel580', 'pixel581', 'pixel582', 'pixel583', 'pixel584', 'pixel585', 'pixel586', 'pixel587', 'pixel588', 'pixel589', 'pixel590', 'pixel591', 'pixel592', 'pixel593', 'pixel594', 'pixel595', 'pixel596', 'pixel597', 'pixel598', 'pixel599', 'pixel600', 'pixel601', 'pixel602', 'pixel603', 'pixel604', 'pixel605', 'pixel606', 'pixel607', 'pixel608', 'pixel609', 'pixel610', 'pixel611', 'pixel612', 'pixel613', 'pixel614', 'pixel615', 'pixel616', 'pixel617', 'pixel618', 'pixel619', 'pixel620', 'pixel621', 'pixel622', 'pixel623', 'pixel624', 'pixel625', 'pixel626', 'pixel627', 'pixel628', 'pixel629', 'pixel630', 'pixel631', 'pixel632', 'pixel633', 'pixel634', 'pixel635', 'pixel636', 'pixel637', 'pixel638', 'pixel639', 'pixel640', 'pixel641', 'pixel642', 'pixel643', 'pixel644', 'pixel645', 'pixel646', 'pixel647', 'pixel648', 'pixel649', 'pixel650', 'pixel651', 'pixel652', 'pixel653', 'pixel654', 'pixel655', 'pixel656', 'pixel657', 'pixel658', 'pixel659', 'pixel660', 'pixel661', 'pixel662', 'pixel663', 'pixel664', 'pixel665', 'pixel666', 'pixel667', 'pixel668', 'pixel669', 'pixel670', 'pixel671', 'pixel672', 'pixel673', 'pixel674', 'pixel675', 'pixel676', 'pixel677', 'pixel678', 'pixel679', 'pixel680', 'pixel681', 'pixel682', 'pixel683', 'pixel684', 'pixel685', 'pixel686', 'pixel687', 'pixel688', 'pixel689', 'pixel690', 'pixel691', 'pixel692', 'pixel693', 'pixel694', 'pixel695', 'pixel696', 'pixel697', 'pixel698', 'pixel699', 'pixel700', 'pixel701', 'pixel702', 'pixel703', 'pixel704', 'pixel705', 'pixel706', 'pixel707', 'pixel708', 'pixel709', 'pixel710', 'pixel711', 'pixel712', 'pixel713', 'pixel714', 'pixel715', 'pixel716', 'pixel717', 'pixel718', 'pixel719', 'pixel720', 'pixel721', 'pixel722', 'pixel723', 'pixel724', 'pixel725', 'pixel726', 'pixel727', 'pixel728', 'pixel729', 'pixel730', 'pixel731', 'pixel732', 'pixel733', 'pixel734', 'pixel735', 'pixel736', 'pixel737', 'pixel738', 'pixel739', 'pixel740', 'pixel741', 'pixel742', 'pixel743', 'pixel744', 'pixel745', 'pixel746', 'pixel747', 'pixel748', 'pixel749', 'pixel750', 'pixel751', 'pixel752', 'pixel753', 'pixel754', 'pixel755', 'pixel756', 'pixel757', 'pixel758', 'pixel759', 'pixel760', 'pixel761', 'pixel762', 'pixel763', 'pixel764', 'pixel765', 'pixel766', 'pixel767', 'pixel768', 'pixel769', 'pixel770', 'pixel771', 'pixel772', 'pixel773', 'pixel774', 'pixel775', 'pixel776', 'pixel777', 'pixel778', 'pixel779', 'pixel780', 'pixel781', 'pixel782', 'pixel783', 'pixel784'], 'DESCR': \"**Author**: Yann LeCun, Corinna Cortes, Christopher J.C. Burges  \\n**Source**: [MNIST Website](http://yann.lecun.com/exdb/mnist/) - Date unknown  \\n**Please cite**:  \\n\\nThe MNIST database of handwritten digits with 784 features, raw data available at: http://yann.lecun.com/exdb/mnist/. It can be split in a training set of the first 60,000 examples, and a test set of 10,000 examples  \\n\\nIt is a subset of a larger set available from NIST. The digits have been size-normalized and centered in a fixed-size image. It is a good database for people who want to try learning techniques and pattern recognition methods on real-world data while spending minimal efforts on preprocessing and formatting. The original black and white (bilevel) images from NIST were size normalized to fit in a 20x20 pixel box while preserving their aspect ratio. The resulting images contain grey levels as a result of the anti-aliasing technique used by the normalization algorithm. the images were centered in a 28x28 image by computing the center of mass of the pixels, and translating the image so as to position this point at the center of the 28x28 field.  \\n\\nWith some classification methods (particularly template-based methods, such as SVM and K-nearest neighbors), the error rate improves when the digits are centered by bounding box rather than center of mass. If you do this kind of pre-processing, you should report it in your publications. The MNIST database was constructed from NIST's NIST originally designated SD-3 as their training set and SD-1 as their test set. However, SD-3 is much cleaner and easier to recognize than SD-1. The reason for this can be found on the fact that SD-3 was collected among Census Bureau employees, while SD-1 was collected among high-school students. Drawing sensible conclusions from learning experiments requires that the result be independent of the choice of training set and test among the complete set of samples. Therefore it was necessary to build a new database by mixing NIST's datasets.  \\n\\nThe MNIST training set is composed of 30,000 patterns from SD-3 and 30,000 patterns from SD-1. Our test set was composed of 5,000 patterns from SD-3 and 5,000 patterns from SD-1. The 60,000 pattern training set contained examples from approximately 250 writers. We made sure that the sets of writers of the training set and test set were disjoint. SD-1 contains 58,527 digit images written by 500 different writers. In contrast to SD-3, where blocks of data from each writer appeared in sequence, the data in SD-1 is scrambled. Writer identities for SD-1 is available and we used this information to unscramble the writers. We then split SD-1 in two: characters written by the first 250 writers went into our new training set. The remaining 250 writers were placed in our test set. Thus we had two sets with nearly 30,000 examples each. The new training set was completed with enough examples from SD-3, starting at pattern # 0, to make a full set of 60,000 training patterns. Similarly, the new test set was completed with SD-3 examples starting at pattern # 35,000 to make a full set with 60,000 test patterns. Only a subset of 10,000 test images (5,000 from SD-1 and 5,000 from SD-3) is available on this site. The full 60,000 sample training set is available.\\n\\nDownloaded from openml.org.\", 'details': {'id': '554', 'name': 'mnist_784', 'version': '1', 'format': 'ARFF', 'upload_date': '2014-09-29T03:28:38', 'licence': 'Public', 'url': 'https://www.openml.org/data/v1/download/52667/mnist_784.arff', 'file_id': '52667', 'default_target_attribute': 'class', 'tag': ['AzurePilot', 'OpenML-CC18', 'OpenML100', 'study_1', 'study_123', 'study_41', 'study_99', 'vision'], 'visibility': 'public', 'status': 'active', 'processing_date': '2018-10-03 21:23:30', 'md5_checksum': '0298d579eb1b86163de7723944c7e495'}, 'categories': {}, 'url': 'https://www.openml.org/d/554'}\n"
     ]
    }
   ],
   "source": [
    "\n",
    "\"\"\"\n",
    "data mnist contient les images sous forme de tableaux de 28 x 28 = 784 \n",
    "\n",
    "\"\"\"\n",
    "\n",
    "print(mnist)"
   ]
  },
  {
   "cell_type": "code",
   "execution_count": 5,
   "metadata": {},
   "outputs": [
    {
     "name": "stdout",
     "output_type": "stream",
     "text": [
      "[[0. 0. 0. ... 0. 0. 0.]\n",
      " [0. 0. 0. ... 0. 0. 0.]\n",
      " [0. 0. 0. ... 0. 0. 0.]\n",
      " ...\n",
      " [0. 0. 0. ... 0. 0. 0.]\n",
      " [0. 0. 0. ... 0. 0. 0.]\n",
      " [0. 0. 0. ... 0. 0. 0.]]\n",
      "['5' '0' '4' ... '4' '5' '6']\n"
     ]
    },
    {
     "data": {
      "text/plain": [
       "70000"
      ]
     },
     "execution_count": 5,
     "metadata": {},
     "output_type": "execute_result"
    }
   ],
   "source": [
    "#Le dataset principal qui contient toutes les images\n",
    "print (mnist.data)\n",
    "# Le vecteur d'annotations associé au dataset (nombre entre 0 et 9)\n",
    "print (mnist.target)\n",
    "\n",
    "# Taille du dataset = 70 000 echantillons donc 7000 exemples de chaque chiffre.\n",
    "len(mnist.data)\n"
   ]
  },
  {
   "cell_type": "code",
   "execution_count": 10,
   "metadata": {},
   "outputs": [
    {
     "name": "stdout",
     "output_type": "stream",
     "text": [
      "[[5.1 3.5 1.4 0.2]\n",
      " [4.9 3.  1.4 0.2]\n",
      " [4.7 3.2 1.3 0.2]\n",
      " [4.6 3.1 1.5 0.2]\n",
      " [5.  3.6 1.4 0.2]\n",
      " [5.4 3.9 1.7 0.4]\n",
      " [4.6 3.4 1.4 0.3]\n",
      " [5.  3.4 1.5 0.2]\n",
      " [4.4 2.9 1.4 0.2]\n",
      " [4.9 3.1 1.5 0.1]\n",
      " [5.4 3.7 1.5 0.2]\n",
      " [4.8 3.4 1.6 0.2]\n",
      " [4.8 3.  1.4 0.1]\n",
      " [4.3 3.  1.1 0.1]\n",
      " [5.8 4.  1.2 0.2]\n",
      " [5.7 4.4 1.5 0.4]\n",
      " [5.4 3.9 1.3 0.4]\n",
      " [5.1 3.5 1.4 0.3]\n",
      " [5.7 3.8 1.7 0.3]\n",
      " [5.1 3.8 1.5 0.3]\n",
      " [5.4 3.4 1.7 0.2]\n",
      " [5.1 3.7 1.5 0.4]\n",
      " [4.6 3.6 1.  0.2]\n",
      " [5.1 3.3 1.7 0.5]\n",
      " [4.8 3.4 1.9 0.2]\n",
      " [5.  3.  1.6 0.2]\n",
      " [5.  3.4 1.6 0.4]\n",
      " [5.2 3.5 1.5 0.2]\n",
      " [5.2 3.4 1.4 0.2]\n",
      " [4.7 3.2 1.6 0.2]\n",
      " [4.8 3.1 1.6 0.2]\n",
      " [5.4 3.4 1.5 0.4]\n",
      " [5.2 4.1 1.5 0.1]\n",
      " [5.5 4.2 1.4 0.2]\n",
      " [4.9 3.1 1.5 0.2]\n",
      " [5.  3.2 1.2 0.2]\n",
      " [5.5 3.5 1.3 0.2]\n",
      " [4.9 3.6 1.4 0.1]\n",
      " [4.4 3.  1.3 0.2]\n",
      " [5.1 3.4 1.5 0.2]\n",
      " [5.  3.5 1.3 0.3]\n",
      " [4.5 2.3 1.3 0.3]\n",
      " [4.4 3.2 1.3 0.2]\n",
      " [5.  3.5 1.6 0.6]\n",
      " [5.1 3.8 1.9 0.4]\n",
      " [4.8 3.  1.4 0.3]\n",
      " [5.1 3.8 1.6 0.2]\n",
      " [4.6 3.2 1.4 0.2]\n",
      " [5.3 3.7 1.5 0.2]\n",
      " [5.  3.3 1.4 0.2]\n",
      " [7.  3.2 4.7 1.4]\n",
      " [6.4 3.2 4.5 1.5]\n",
      " [6.9 3.1 4.9 1.5]\n",
      " [5.5 2.3 4.  1.3]\n",
      " [6.5 2.8 4.6 1.5]\n",
      " [5.7 2.8 4.5 1.3]\n",
      " [6.3 3.3 4.7 1.6]\n",
      " [4.9 2.4 3.3 1. ]\n",
      " [6.6 2.9 4.6 1.3]\n",
      " [5.2 2.7 3.9 1.4]\n",
      " [5.  2.  3.5 1. ]\n",
      " [5.9 3.  4.2 1.5]\n",
      " [6.  2.2 4.  1. ]\n",
      " [6.1 2.9 4.7 1.4]\n",
      " [5.6 2.9 3.6 1.3]\n",
      " [6.7 3.1 4.4 1.4]\n",
      " [5.6 3.  4.5 1.5]\n",
      " [5.8 2.7 4.1 1. ]\n",
      " [6.2 2.2 4.5 1.5]\n",
      " [5.6 2.5 3.9 1.1]\n",
      " [5.9 3.2 4.8 1.8]\n",
      " [6.1 2.8 4.  1.3]\n",
      " [6.3 2.5 4.9 1.5]\n",
      " [6.1 2.8 4.7 1.2]\n",
      " [6.4 2.9 4.3 1.3]\n",
      " [6.6 3.  4.4 1.4]\n",
      " [6.8 2.8 4.8 1.4]\n",
      " [6.7 3.  5.  1.7]\n",
      " [6.  2.9 4.5 1.5]\n",
      " [5.7 2.6 3.5 1. ]\n",
      " [5.5 2.4 3.8 1.1]\n",
      " [5.5 2.4 3.7 1. ]\n",
      " [5.8 2.7 3.9 1.2]\n",
      " [6.  2.7 5.1 1.6]\n",
      " [5.4 3.  4.5 1.5]\n",
      " [6.  3.4 4.5 1.6]\n",
      " [6.7 3.1 4.7 1.5]\n",
      " [6.3 2.3 4.4 1.3]\n",
      " [5.6 3.  4.1 1.3]\n",
      " [5.5 2.5 4.  1.3]\n",
      " [5.5 2.6 4.4 1.2]\n",
      " [6.1 3.  4.6 1.4]\n",
      " [5.8 2.6 4.  1.2]\n",
      " [5.  2.3 3.3 1. ]\n",
      " [5.6 2.7 4.2 1.3]\n",
      " [5.7 3.  4.2 1.2]\n",
      " [5.7 2.9 4.2 1.3]\n",
      " [6.2 2.9 4.3 1.3]\n",
      " [5.1 2.5 3.  1.1]\n",
      " [5.7 2.8 4.1 1.3]\n",
      " [6.3 3.3 6.  2.5]\n",
      " [5.8 2.7 5.1 1.9]\n",
      " [7.1 3.  5.9 2.1]\n",
      " [6.3 2.9 5.6 1.8]\n",
      " [6.5 3.  5.8 2.2]\n",
      " [7.6 3.  6.6 2.1]\n",
      " [4.9 2.5 4.5 1.7]\n",
      " [7.3 2.9 6.3 1.8]\n",
      " [6.7 2.5 5.8 1.8]\n",
      " [7.2 3.6 6.1 2.5]\n",
      " [6.5 3.2 5.1 2. ]\n",
      " [6.4 2.7 5.3 1.9]\n",
      " [6.8 3.  5.5 2.1]\n",
      " [5.7 2.5 5.  2. ]\n",
      " [5.8 2.8 5.1 2.4]\n",
      " [6.4 3.2 5.3 2.3]\n",
      " [6.5 3.  5.5 1.8]\n",
      " [7.7 3.8 6.7 2.2]\n",
      " [7.7 2.6 6.9 2.3]\n",
      " [6.  2.2 5.  1.5]\n",
      " [6.9 3.2 5.7 2.3]\n",
      " [5.6 2.8 4.9 2. ]\n",
      " [7.7 2.8 6.7 2. ]\n",
      " [6.3 2.7 4.9 1.8]\n",
      " [6.7 3.3 5.7 2.1]\n",
      " [7.2 3.2 6.  1.8]\n",
      " [6.2 2.8 4.8 1.8]\n",
      " [6.1 3.  4.9 1.8]\n",
      " [6.4 2.8 5.6 2.1]\n",
      " [7.2 3.  5.8 1.6]\n",
      " [7.4 2.8 6.1 1.9]\n",
      " [7.9 3.8 6.4 2. ]\n",
      " [6.4 2.8 5.6 2.2]\n",
      " [6.3 2.8 5.1 1.5]\n",
      " [6.1 2.6 5.6 1.4]\n",
      " [7.7 3.  6.1 2.3]\n",
      " [6.3 3.4 5.6 2.4]\n",
      " [6.4 3.1 5.5 1.8]\n",
      " [6.  3.  4.8 1.8]\n",
      " [6.9 3.1 5.4 2.1]\n",
      " [6.7 3.1 5.6 2.4]\n",
      " [6.9 3.1 5.1 2.3]\n",
      " [5.8 2.7 5.1 1.9]\n",
      " [6.8 3.2 5.9 2.3]\n",
      " [6.7 3.3 5.7 2.5]\n",
      " [6.7 3.  5.2 2.3]\n",
      " [6.3 2.5 5.  1.9]\n",
      " [6.5 3.  5.2 2. ]\n",
      " [6.2 3.4 5.4 2.3]\n",
      " [5.9 3.  5.1 1.8]]\n",
      "[0 0 0 0 0 0 0 0 0 0 0 0 0 0 0 0 0 0 0 0 0 0 0 0 0 0 0 0 0 0 0 0 0 0 0 0 0\n",
      " 0 0 0 0 0 0 0 0 0 0 0 0 0 1 1 1 1 1 1 1 1 1 1 1 1 1 1 1 1 1 1 1 1 1 1 1 1\n",
      " 1 1 1 1 1 1 1 1 1 1 1 1 1 1 1 1 1 1 1 1 1 1 1 1 1 1 2 2 2 2 2 2 2 2 2 2 2\n",
      " 2 2 2 2 2 2 2 2 2 2 2 2 2 2 2 2 2 2 2 2 2 2 2 2 2 2 2 2 2 2 2 2 2 2 2 2 2\n",
      " 2 2]\n"
     ]
    }
   ],
   "source": [
    "\"\"\"\n",
    " Test avec le jeu de donnee Iris :\n",
    " - 150 exemples  de  critere sur  3 especes differentes d’iris de Gaspesie (Setosa, Versicolor, Verginica)\n",
    "\"\"\"\n",
    "\n",
    "from sklearn import datasets\n",
    "irisData = datasets.load_iris()\n",
    "print(irisData.data)\n",
    "print(irisData.target)\n"
   ]
  },
  {
   "cell_type": "code",
   "execution_count": 10,
   "metadata": {},
   "outputs": [
    {
     "name": "stdout",
     "output_type": "stream",
     "text": [
      "(70000, 784)\n",
      "(70000,)\n"
     ]
    },
    {
     "data": {
      "text/plain": [
       "array([[0., 0., 0., ..., 0., 0., 0.],\n",
       "       [0., 0., 0., ..., 0., 0., 0.],\n",
       "       [0., 0., 0., ..., 0., 0., 0.],\n",
       "       ...,\n",
       "       [0., 0., 0., ..., 0., 0., 0.],\n",
       "       [0., 0., 0., ..., 0., 0., 0.],\n",
       "       [0., 0., 0., ..., 0., 0., 0.]])"
      ]
     },
     "execution_count": 10,
     "metadata": {},
     "output_type": "execute_result"
    }
   ],
   "source": [
    "#Le dataset principal qui contient toutes les images\n",
    "print (mnist.data.shape) \n",
    "# Le vecteur d'annotations associé au dataset (nombre entre 0 et 9)\n",
    "print (mnist.target.shape)\n",
    "mnist.data[0]\n",
    "mnist.data[0][1]\n",
    "mnist.data[:,1]\n",
    "mnist.data[:100]\n"
   ]
  },
  {
   "cell_type": "code",
   "execution_count": 14,
   "metadata": {},
   "outputs": [],
   "source": [
    "from sklearn import datasets\n",
    "import matplotlib.pyplot as plt"
   ]
  },
  {
   "cell_type": "code",
   "execution_count": 15,
   "metadata": {},
   "outputs": [
    {
     "data": {
      "image/png": "[encoded data removed]",
      "text/plain": [
       "<Figure size 432x288 with 1 Axes>"
      ]
     },
     "metadata": {
      "needs_background": "light"
     },
     "output_type": "display_data"
    },
    {
     "data": {
      "image/png": "[encoded data removed]",
      "text/plain": [
       "<Figure size 432x288 with 1 Axes>"
      ]
     },
     "metadata": {
      "needs_background": "light"
     },
     "output_type": "display_data"
    },
    {
     "data": {
      "image/png": "[encoded data removed]",
      "text/plain": [
       "<Figure size 432x288 with 1 Axes>"
      ]
     },
     "metadata": {
      "needs_background": "light"
     },
     "output_type": "display_data"
    },
    {
     "data": {
      "image/png": "[encoded data removed]",
      "text/plain": [
       "<Figure size 432x288 with 1 Axes>"
      ]
     },
     "metadata": {
      "needs_background": "light"
     },
     "output_type": "display_data"
    }
   ],
   "source": [
    "# On redimensionne les données sous forme d'images\n",
    "images = mnist.data.reshape((-1, 28, 28))\n",
    "# Affichage de la classe correspondante\n",
    "for i in range(4):\n",
    "    plt.imshow(images[i],cmap=plt.cm.gray_r,interpolation=\"nearest\")\n",
    "    plt.show()\n"
   ]
  },
  {
   "cell_type": "code",
   "execution_count": null,
   "metadata": {},
   "outputs": [],
   "source": [
    "\"\"\"\n",
    "Implementation de la methode k-nn\n",
    "\"\"\""
   ]
  },
  {
   "cell_type": "code",
   "execution_count": 17,
   "metadata": {},
   "outputs": [
    {
     "name": "stdout",
     "output_type": "stream",
     "text": [
      "[[0. 0. 0. ... 0. 0. 0.]\n",
      " [0. 0. 0. ... 0. 0. 0.]\n",
      " [0. 0. 0. ... 0. 0. 0.]\n",
      " ...\n",
      " [0. 0. 0. ... 0. 0. 0.]\n",
      " [0. 0. 0. ... 0. 0. 0.]\n",
      " [0. 0. 0. ... 0. 0. 0.]]\n",
      "[[0. 0. 0. ... 0. 0. 0.]\n",
      " [0. 0. 0. ... 0. 0. 0.]\n",
      " [0. 0. 0. ... 0. 0. 0.]\n",
      " ...\n",
      " [0. 0. 0. ... 0. 0. 0.]\n",
      " [0. 0. 0. ... 0. 0. 0.]\n",
      " [0. 0. 0. ... 0. 0. 0.]]\n",
      "['4' '1' '6' ... '0' '6' '7']\n",
      "['1' '7' '8' '8' '6' '0' '8' '9' '5' '3' '4' '9' '2' '2' '0' '1' '9' '8'\n",
      " '5' '2' '7' '2' '7' '7' '9' '8' '2' '2' '0' '6' '9' '5' '9' '0' '4' '7'\n",
      " '9' '2' '4' '3' '3' '5' '6' '5' '1' '3' '2' '5' '4' '6' '9' '2' '0' '6'\n",
      " '5' '3' '6' '6' '3' '5' '6' '1' '0' '4' '8' '9' '5' '6' '9' '3' '1' '7'\n",
      " '3' '8' '0' '5' '7' '2' '6' '0' '2' '2' '4' '5' '7' '7' '1' '1' '1' '3'\n",
      " '4' '2' '9' '2' '5' '8' '6' '2' '6' '0' '3' '3' '8' '6' '4' '1' '3' '0'\n",
      " '5' '6' '5' '9' '5' '1' '1' '2' '8' '9' '8' '0' '1' '6' '5' '4' '1' '5'\n",
      " '8' '9' '1' '8' '9' '3' '5' '8' '9' '1' '2' '3' '0' '6' '7' '2' '4' '9'\n",
      " '3' '8' '3' '1' '5' '7' '9' '9' '5' '6' '4' '3' '7' '1' '8' '3' '9' '0'\n",
      " '8' '8' '7' '5' '9' '8' '4' '6' '2' '2' '7' '7' '2' '7' '0' '7' '7' '2'\n",
      " '6' '0' '1' '9' '6' '5' '4' '4' '1' '3' '6' '9' '5' '1' '6' '7' '2' '1'\n",
      " '3' '8' '1' '4' '6' '9' '0' '0' '9' '0' '8' '0' '2' '6' '2' '5' '2' '9'\n",
      " '7' '7' '0' '7' '6' '4' '4' '4' '8' '0' '2' '1' '9' '3' '2' '4' '6' '4'\n",
      " '8' '8' '2' '8' '6' '4' '4' '3' '1' '1' '6' '0' '6' '7' '6' '0' '3' '4'\n",
      " '9' '1' '3' '0' '1' '8' '5' '2' '7' '3' '3' '6' '4' '6' '7' '5' '3' '4'\n",
      " '0' '9' '2' '6' '2' '0' '0' '0' '7' '4' '2' '1' '0' '9' '0' '0' '3' '1'\n",
      " '7' '4' '7' '8' '1' '2' '7' '1' '8' '0' '0' '3' '3' '9' '3' '4' '1' '7'\n",
      " '1' '2' '8' '4' '2' '1' '9' '3' '1' '2' '6' '2' '4' '3' '4' '0' '1' '8'\n",
      " '9' '3' '2' '8' '7' '3' '6' '1' '9' '0' '4' '3' '0' '8' '8' '7' '1' '8'\n",
      " '3' '8' '7' '2' '3' '6' '2' '4' '6' '6' '5' '0' '1' '4' '7' '3' '4' '1'\n",
      " '8' '6' '5' '0' '1' '7' '3' '7' '6' '3' '9' '4' '3' '3' '2' '9' '5' '3'\n",
      " '5' '9' '0' '0' '4' '9' '0' '8' '7' '9' '6' '1' '7' '0' '7' '7' '4' '5'\n",
      " '1' '8' '2' '8' '2' '7' '9' '7' '9' '5' '6' '4' '1' '3' '7' '4' '0' '0'\n",
      " '0' '8' '5' '4' '6' '4' '1' '1' '0' '9' '1' '8' '3' '1' '5' '5' '3' '2'\n",
      " '4' '2' '4' '9' '7' '0' '1' '4' '2' '2' '9' '4' '2' '0' '7' '3' '0' '1'\n",
      " '0' '2' '0' '7' '4' '9' '1' '0' '4' '7' '7' '9' '3' '0' '7' '1' '2' '1'\n",
      " '4' '3' '2' '9' '8' '2' '2' '9' '1' '8' '4' '5' '3' '2' '7' '0' '1' '2'\n",
      " '3' '5' '6' '9' '4' '3' '0' '3' '7' '1' '9' '5' '4' '2' '7' '7' '7' '8'\n",
      " '2' '7' '9' '6' '8' '9' '9' '6' '9' '6' '7' '2' '5' '8' '1' '2' '5' '8'\n",
      " '1' '6' '1' '8' '4' '5' '5' '0' '8' '5' '3' '9' '1' '5' '5' '5' '2' '2'\n",
      " '2' '5' '7' '5' '9' '8' '7' '4' '7' '0' '8' '5' '7' '5' '2' '6' '7' '0'\n",
      " '8' '8' '8' '8' '8' '9' '7' '0' '4' '6' '5' '3' '8' '5' '8' '8' '1' '0'\n",
      " '9' '8' '6' '0' '5' '6' '8' '5' '5' '7' '1' '3' '1' '3' '1' '0' '1' '1'\n",
      " '4' '5' '2' '1' '2' '6' '6' '7' '7' '2' '8' '8' '3' '2' '3' '5' '8' '0'\n",
      " '4' '2' '5' '9' '7' '7' '6' '7' '3' '8' '0' '2' '8' '2' '3' '1' '9' '2'\n",
      " '1' '7' '4' '7' '8' '3' '3' '4' '5' '1' '8' '7' '9' '8' '3' '6' '1' '1'\n",
      " '7' '2' '0' '3' '5' '7' '0' '9' '9' '8' '0' '0' '8' '3' '0' '8' '3' '8'\n",
      " '8' '2' '8' '1' '6' '4' '3' '6' '1' '4' '2' '1' '1' '2' '3' '9' '7' '0'\n",
      " '3' '6' '5' '5' '7' '9' '7' '1' '3' '0' '9' '8' '9' '6' '1' '2' '1' '8'\n",
      " '8' '4' '8' '6' '9' '6' '0' '6' '2' '0' '4' '5' '7' '4' '8' '2' '5' '0'\n",
      " '7' '4' '5' '5' '4' '5' '0' '5' '0' '3' '1' '4' '2' '7' '6' '9' '2' '7'\n",
      " '6' '8' '6' '6' '7' '9' '1' '1' '3' '5' '5' '0' '4' '1' '5' '1' '6' '5'\n",
      " '9' '2' '1' '6' '6' '9' '6' '8' '0' '1' '9' '7' '7' '2' '2' '0' '7' '2'\n",
      " '6' '0' '6' '7' '1' '9' '5' '7' '1' '2' '5' '1' '5' '9' '8' '1' '0' '4'\n",
      " '4' '4' '0' '1' '7' '3' '6' '0' '8' '5' '8' '8' '1' '8' '8' '6' '2' '8'\n",
      " '7' '0' '3' '8' '4' '3' '1' '1' '9' '1' '4' '6' '2' '6' '6' '3' '2' '9'\n",
      " '5' '7' '0' '2' '2' '5' '8' '3' '6' '6' '8' '5' '3' '9' '7' '5' '1' '5'\n",
      " '9' '3' '7' '5' '6' '4' '4' '0' '9' '8' '4' '6' '9' '9' '1' '8' '6' '3'\n",
      " '9' '7' '9' '0' '7' '1' '9' '2' '1' '7' '9' '1' '9' '7' '9' '5' '6' '5'\n",
      " '9' '8' '1' '3' '5' '0' '0' '1' '7' '1' '7' '3' '5' '9' '1' '1' '3' '2'\n",
      " '0' '8' '4' '4' '7' '2' '8' '6' '4' '2' '9' '6' '2' '3' '2' '9' '0' '8'\n",
      " '2' '2' '5' '3' '5' '6' '7' '6' '5' '6' '6' '0' '3' '8' '0' '6' '8' '5'\n",
      " '4' '1' '8' '8' '5' '2' '3' '3' '2' '4' '3' '6' '8' '3' '6' '4' '8' '1'\n",
      " '8' '3' '2' '6' '2' '1' '2' '9' '5' '5' '3' '0' '5' '8' '5' '0' '4' '9'\n",
      " '5' '4' '4' '0' '4' '6' '4' '2' '9' '4' '4' '0' '8' '8' '3' '3' '1' '0'\n",
      " '9' '1' '1' '2' '0' '7' '4' '0' '6' '2']\n"
     ]
    }
   ],
   "source": [
    "import numpy as np \n",
    "from sklearn.model_selection import train_test_split\n",
    "sample = np.random.randint(70000, size=5000) ## data avec une taille de 5000 exemples sur l'echantillon de 70 000 donnees\n",
    "data = mnist.data[sample]\n",
    "target = mnist.target[sample]\n",
    "\"\"\"\n",
    "Séparation training / testing set\n",
    "80% pour l’apprentissage (training) et à 20% pour lestests\n",
    "\"\"\"\n",
    "xtrain, xtest, ytrain, ytest = train_test_split(data, target,train_size=0.8) \n",
    "print(xtrain)\n",
    "print(xtest)\n",
    "print(ytrain)\n",
    "print(ytest)"
   ]
  },
  {
   "cell_type": "code",
   "execution_count": 19,
   "metadata": {},
   "outputs": [
    {
     "data": {
      "text/plain": [
       "array([[0. , 1. , 0. , ..., 0. , 0. , 0. ],\n",
       "       [0. , 0. , 0. , ..., 1. , 0. , 0. ],\n",
       "       [0. , 0. , 0. , ..., 0. , 1. , 0. ],\n",
       "       ...,\n",
       "       [1. , 0. , 0. , ..., 0. , 0. , 0. ],\n",
       "       [0. , 0. , 0. , ..., 0. , 0.1, 0. ],\n",
       "       [0. , 0. , 0.9, ..., 0. , 0. , 0. ]])"
      ]
     },
     "execution_count": 19,
     "metadata": {},
     "output_type": "execute_result"
    }
   ],
   "source": [
    "\"\"\"\n",
    "\n",
    "Entrainement d'un classifieur k-nn avec k = 10 sur le jeu de données chargé\n",
    "\"\"\"\n",
    "\n",
    "from  sklearn import neighbors\n",
    "clf = neighbors.KNeighborsClassifier(n_neighbors=10)\n",
    "clf.fit(xtrain, ytrain)\n",
    "clf.predict(xtest)\n",
    "clf.predict_proba(xtest)\n"
   ]
  },
  {
   "cell_type": "code",
   "execution_count": 22,
   "metadata": {},
   "outputs": [
    {
     "name": "stdout",
     "output_type": "stream",
     "text": [
      "0.924\n"
     ]
    }
   ],
   "source": [
    "\"\"\"\n",
    "Affichage du score sur l’échantillon de test\n",
    "\"\"\"\n",
    "print(clf.score(xtest, ytest))"
   ]
  },
  {
   "cell_type": "code",
   "execution_count": 21,
   "metadata": {},
   "outputs": [
    {
     "name": "stdout",
     "output_type": "stream",
     "text": [
      "8\n",
      "8\n"
     ]
    }
   ],
   "source": [
    "\"\"\"\"\n",
    "Affichage de la classe de l’image 4 et sa classe predite\n",
    "\"\"\"\n",
    "print(ytest[3])\n",
    "print(clf.predict(xtest)[3]) "
   ]
  },
  {
   "cell_type": "code",
   "execution_count": 24,
   "metadata": {},
   "outputs": [
    {
     "name": "stdout",
     "output_type": "stream",
     "text": [
      "Erreur: 0.076000\n"
     ]
    }
   ],
   "source": [
    "error = 1 - clf.score(xtest, ytest)\n",
    "print('Erreur: %f' % error)\n",
    "# Erreur faible du fait que plus on utilise de voisins (un nombre K grand) plus, sera fiable dans notre prédiction"
   ]
  },
  {
   "cell_type": "code",
   "execution_count": null,
   "metadata": {},
   "outputs": [],
   "source": [
    "\"\"\"\n",
    "Determination du k optimal en variant le nombre de voisins (k) de 2 jusqu’à 15 \n",
    "\"\"\""
   ]
  },
  {
   "cell_type": "code",
   "execution_count": 27,
   "metadata": {},
   "outputs": [
    {
     "name": "stdout",
     "output_type": "stream",
     "text": [
      " pour k = 2\n",
      " \n",
      " erreur : 0.08499999999999996\n",
      " pour k = 3\n",
      " \n",
      " erreur : 0.06899999999999995\n",
      " pour k = 4\n",
      " \n",
      " erreur : 0.07399999999999995\n",
      " pour k = 5\n",
      " \n",
      " erreur : 0.07299999999999995\n",
      " pour k = 6\n",
      " \n",
      " erreur : 0.06799999999999995\n",
      " pour k = 7\n",
      " \n",
      " erreur : 0.06399999999999995\n",
      " pour k = 8\n",
      " \n",
      " erreur : 0.07299999999999995\n",
      " pour k = 9\n",
      " \n",
      " erreur : 0.07499999999999996\n",
      " pour k = 10\n",
      " \n",
      " erreur : 0.07599999999999996\n",
      " pour k = 11\n",
      " \n",
      " erreur : 0.07299999999999995\n",
      " pour k = 12\n",
      " \n",
      " erreur : 0.07699999999999996\n",
      " pour k = 13\n",
      " \n",
      " erreur : 0.07999999999999996\n",
      " pour k = 14\n",
      " \n",
      " erreur : 0.08499999999999996\n"
     ]
    }
   ],
   "source": [
    "\n",
    "for k in range(2,15):\n",
    "    clf= neighbors.KNeighborsClassifier(k)\n",
    "    print( \" pour k =\" , k )\n",
    "    print( \" \\n erreur :\",(1 - clf.fit(xtrain, ytrain).score(xtest, ytest)))\n",
    "    "
   ]
  },
  {
   "cell_type": "code",
   "execution_count": 39,
   "metadata": {},
   "outputs": [
    {
     "data": {
      "image/png": "[encoded data removed]",
      "text/plain": [
       "<Figure size 432x288 with 12 Axes>"
      ]
     },
     "metadata": {
      "needs_background": "light"
     },
     "output_type": "display_data"
    }
   ],
   "source": [
    "\"\"\"\n",
    "Meilleur score pour k=4 donc k-optimal => \n",
    "c'est celui qui classifie le mieux les données,\n",
    "+ précis et qui reconnait au mieux les nombres écrits à la main.\n",
    "\"\"\"\n",
    "# On récupère le classifieur le plus performant\n",
    "clf = neighbors.KNeighborsClassifier(4)\n",
    "clf.fit(xtrain, ytrain)\n",
    "\n",
    "# On récupère les prédictions sur les données test\n",
    "predicted = clf.predict(xtest)\n",
    "\n",
    "# On redimensionne les données sous forme d'images\n",
    "images = xtest.reshape((-1, 28, 28))\n",
    "\n",
    "# On selectionne un echantillon de 12 images au hasard\n",
    "select = np.random.randint(images.shape[0], size=12)\n",
    "\n",
    "# On affiche les images avec la prédiction associée\n",
    "for index, value in enumerate(select):\n",
    "    plt.subplot(3,4,index+1)\n",
    "    plt.axis('off')\n",
    "    plt.imshow(images[value],cmap=plt.cm.gray_r,interpolation=\"nearest\")\n",
    "    #plt.title('Predicted: %i' %predicted[value])\n",
    "\n",
    "plt.show()"
   ]
  },
  {
   "cell_type": "code",
   "execution_count": 106,
   "metadata": {},
   "outputs": [
    {
     "data": {
      "text/plain": [
       "'\\nfrom sklearn.model_selection import KFold\\n\\nkf = KFold(len(data), n_folds = 10, shuffle=True)\\n\\nfor k in range(2,15):\\n    score=0\\n    clf = neighbors.KNeighborsClassifier(k)\\n    for learn,test in kf.split(X):\\n        X_train=[data[i] for i in learn]\\n        Y_train=[data[i] for i in learn]\\n        clf.fit(X_train, Y_train)\\n        X_test=[data[i] for i in test]\\n        Y_test=[data[i] for i in test]\\n        score = score + clf.score(X_test,Y_test)\\n    scores.append(score)\\n    print(scores)\\nprint(\"meilleure valeur pour k : \",scores.index(max(scores))+1)\\n'"
      ]
     },
     "execution_count": 106,
     "metadata": {},
     "output_type": "execute_result"
    }
   ],
   "source": [
    "\"\"\"\n",
    "from sklearn.model_selection import KFold\n",
    "\n",
    "kf = KFold(len(data), n_folds = 10, shuffle=True)\n",
    "\n",
    "for k in range(2,15):\n",
    "    score=0\n",
    "    clf = neighbors.KNeighborsClassifier(k)\n",
    "    for learn,test in kf.split(X):\n",
    "        X_train=[data[i] for i in learn]\n",
    "        Y_train=[data[i] for i in learn]\n",
    "        clf.fit(X_train, Y_train)\n",
    "        X_test=[data[i] for i in test]\n",
    "        Y_test=[data[i] for i in test]\n",
    "        score = score + clf.score(X_test,Y_test)\n",
    "    scores.append(score)\n",
    "    print(scores)\n",
    "print(\"meilleure valeur pour k : \",scores.index(max(scores))+1)\n",
    "\"\"\""
   ]
  },
  {
   "cell_type": "code",
   "execution_count": 71,
   "metadata": {},
   "outputs": [
    {
     "name": "stdout",
     "output_type": "stream",
     "text": [
      " pour le pourcentage suivant= 0.1\n",
      " Le score avec k=4 : 0.8257777777777778\n",
      " pour le pourcentage suivant= 0.2\n",
      " Le score avec k=4 : 0.875\n",
      " pour le pourcentage suivant= 0.3\n",
      " Le score avec k=4 : 0.902\n",
      " pour le pourcentage suivant= 0.4\n",
      " Le score avec k=4 : 0.9013333333333333\n",
      " pour le pourcentage suivant= 0.5\n",
      " Le score avec k=4 : 0.9232\n",
      " pour le pourcentage suivant= 0.6\n",
      " Le score avec k=4 : 0.915\n",
      " pour le pourcentage suivant= 0.7\n",
      " Le score avec k=4 : 0.9206666666666666\n",
      " pour le pourcentage suivant= 0.8\n",
      " Le score avec k=4 : 0.937\n",
      " pour le pourcentage suivant= 0.9\n",
      " Le score avec k=4 : 0.958\n"
     ]
    }
   ],
   "source": [
    "\n",
    "for pourcentage in range(1,10):\n",
    "    xtrain, xtest, ytrain, ytest = train_test_split(data, target,train_size=(pourcentage/10))\n",
    "    clf =neighbors.KNeighborsClassifier(n_neighbors=4)\n",
    "    clf.fit(xtrain, ytrain)\n",
    "    print( \" pour le pourcentage suivant=\" , (pourcentage/10) )\n",
    "    print( \" Le score avec k=4 :\",clf.score(xtest,ytest))\n",
    " "
   ]
  },
  {
   "cell_type": "code",
   "execution_count": 85,
   "metadata": {},
   "outputs": [
    {
     "name": "stdout",
     "output_type": "stream",
     "text": [
      "pour un nombre de voisin de : 1\n",
      "Score (precision) 0.929\n",
      "pour un nombre de voisin de : 2\n",
      "Score (precision) 0.929\n",
      "pour un nombre de voisin de : 3\n",
      "Score (precision) 0.929\n",
      "pour un nombre de voisin de : 4\n",
      "Score (precision) 0.929\n",
      "pour un nombre de voisin de : 5\n",
      "Score (precision) 0.929\n",
      "pour un nombre de voisin de : 6\n",
      "Score (precision) 0.929\n",
      "pour un nombre de voisin de : 7\n",
      "Score (precision) 0.929\n",
      "pour un nombre de voisin de : 8\n",
      "Score (precision) 0.929\n",
      "pour un nombre de voisin de : 9\n",
      "Score (precision) 0.929\n",
      "pour un nombre de voisin de : 10\n",
      "Score (precision) 0.929\n",
      "pour un nombre de voisin de : 11\n",
      "Score (precision) 0.929\n",
      "pour un nombre de voisin de : 12\n",
      "Score (precision) 0.929\n",
      "pour un nombre de voisin de : 13\n",
      "Score (precision) 0.929\n",
      "pour un nombre de voisin de : 14\n",
      "Score (precision) 0.929\n",
      "pour un nombre de voisin de : 15\n",
      "Score (precision) 0.929\n",
      "pour un nombre de voisin de : 16\n",
      "Score (precision) 0.929\n",
      "pour un nombre de voisin de : 17\n",
      "Score (precision) 0.929\n",
      "pour un nombre de voisin de : 18\n",
      "Score (precision) 0.929\n",
      "pour un nombre de voisin de : 19\n",
      "Score (precision) 0.929\n"
     ]
    }
   ],
   "source": [
    "\"\"\"\n",
    "\n",
    "Variation de la distance p \n",
    "\n",
    "\"\"\"\n",
    "\n",
    "\n",
    "xtrain, xtest, ytrain, ytest = train_test_split(data, target,train_size=0.8) \n",
    "\n",
    "for i in range(1,20):\n",
    "    print(\"pour un nombre de voisin de :\" , i )\n",
    "    KNeighborsClassifier(algorithm='auto',  \n",
    "                     p=i,\n",
    "                     n_neighbors=4)\n",
    "    clf = KNeighborsClassifier()\n",
    "    clf.fit(xtrain, ytrain)\n",
    "    print(\"Score (precision)\", clf.score(xtest, ytest))\n"
   ]
  },
  {
   "cell_type": "markdown",
   "metadata": {},
   "source": [
    "\"\"\"\n",
    "\n",
    "\n",
    "A faire\n",
    "\"\"\"\n"
   ]
  },
  {
   "cell_type": "code",
   "execution_count": 87,
   "metadata": {},
   "outputs": [
    {
     "name": "stdout",
     "output_type": "stream",
     "text": [
      "Predictions for the classifier:\n",
      "TEMPS mis pour n_job=1 (s) 10.194456577301025\n"
     ]
    }
   ],
   "source": [
    "\"\"\"\n",
    "Fixation du  n_job à  1 puis calcule du temps dans de la classification.\n",
    "\"\"\"\n",
    "\n",
    "import time\n",
    "seconds = time.time()\n",
    "xtrain, xtest, ytrain, ytest = train_test_split(data, target,train_size=0.8) \n",
    "KNeighborsClassifier(algorithm='auto', \n",
    "                      n_jobs=1, \n",
    "                     n_neighbors=4, \n",
    "                     )\n",
    "clf = KNeighborsClassifier()\n",
    "clf.fit(xtrain, ytrain)\n",
    "\n",
    "\n",
    "print(\"Predictions for the classifier:\")\n",
    "clf.predict(xtest)\n",
    "clf.predict_proba(xtest)\n",
    "print(\"TEMPS mis pour n_job=1 (s)\",time.time()-seconds)\n",
    "\n",
    "\n"
   ]
  },
  {
   "cell_type": "code",
   "execution_count": 86,
   "metadata": {},
   "outputs": [
    {
     "name": "stdout",
     "output_type": "stream",
     "text": [
      "Predictions for the classifier:\n",
      "TEMPS mis pour n_job=1 (s) 9.89100956916809\n"
     ]
    }
   ],
   "source": [
    "\n",
    "\"\"\"\n",
    "Fixation du  n_job à  -1 puis calcule du temps dans de la classification.\n",
    "\"\"\"\n",
    "\n",
    "import time\n",
    "seconds = time.time()\n",
    "xtrain, xtest, ytrain, ytest = train_test_split(data, target,train_size=0.8) \n",
    "\n",
    "KNeighborsClassifier(algorithm='auto', \n",
    "                      n_jobs=-1, \n",
    "                     n_neighbors=4, \n",
    "                     )\n",
    "clf = KNeighborsClassifier()\n",
    "clf.fit(xtrain, ytrain)\n",
    "\n",
    "\n",
    "print(\"Predictions for the classifier:\")\n",
    "clf.predict(xtest)\n",
    "clf.predict_proba(xtest)\n",
    "print(\"TEMPS mis pour n_job=1 (s)\",time.time()-seconds)\n"
   ]
  }
 ],
 "metadata": {
  "kernelspec": {
   "display_name": "Python 2",
   "language": "python",
   "name": "python2"
  },
  "language_info": {
   "codemirror_mode": {
    "name": "ipython",
    "version": 2
   },
   "file_extension": ".py",
   "mimetype": "text/x-python",
   "name": "python",
   "nbconvert_exporter": "python",
   "pygments_lexer": "ipython2",
   "version": "2.7.15"
  },
  "latex_envs": {
   "LaTeX_envs_menu_present": true,
   "autoclose": false,
   "autocomplete": true,
   "bibliofile": "biblio.bib",
   "cite_by": "apalike",
   "current_citInitial": 1,
   "eqLabelWithNumbers": true,
   "eqNumInitial": 1,
   "hotkeys": {
    "equation": "Ctrl-E",
    "itemize": "Ctrl-I"
   },
   "labels_anchors": false,
   "latex_user_defs": false,
   "report_style_numbering": false,
   "user_envs_cfg": false
  }
 },
 "nbformat": 4,
 "nbformat_minor": 2
}
